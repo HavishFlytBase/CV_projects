{
 "cells": [
  {
   "attachments": {},
   "cell_type": "markdown",
   "metadata": {},
   "source": [
    "# Compute Surface Normals\n",
    "\n",
    "In this notebook we will learn how to compute surface normals to be used for training a multitask model. It has been shown that including surface normals in multi task training can improve performance for both segmentation and monocular depth estiation [1].\n",
    "\n",
    "To compute the normals, we will first create a point cloud from the depth image and then use open3d to estimate the normals\n",
    "\n",
    "\n",
    "[1] https://arxiv.org/pdf/1905.07553.pdf"
   ]
  },
  {
   "cell_type": "code",
   "execution_count": 1,
   "metadata": {},
   "outputs": [
    {
     "name": "stdout",
     "output_type": "stream",
     "text": [
      "Jupyter environment detected. Enabling Open3D WebVisualizer.\n",
      "[Open3D INFO] WebRTC GUI backend enabled.\n",
      "[Open3D INFO] WebRTCWindowSystem: HTTP handshake server disabled.\n"
     ]
    }
   ],
   "source": [
    "import os\n",
    "\n",
    "import numpy as np\n",
    "import cv2\n",
    "import open3d as o3d\n",
    "\n",
    "import torch \n",
    "\n",
    "import matplotlib as mpl\n",
    "import matplotlib.pyplot as plt\n",
    "%matplotlib inline\n",
    "\n",
    "from dataloader import CityScapesDataset"
   ]
  },
  {
   "cell_type": "code",
   "execution_count": 2,
   "metadata": {},
   "outputs": [],
   "source": [
    "baseline = 0.209313 # meters\n",
    "\n",
    "# focal lengths (pixels)\n",
    "fx = 2262.52\n",
    "fy = 2265.3017905988554\n",
    "\n",
    "# u, v principle points\n",
    "u0 = 1096.98\n",
    "v0 = 513.137"
   ]
  },
  {
   "cell_type": "code",
   "execution_count": 3,
   "metadata": {},
   "outputs": [],
   "source": [
    "from dataloader import CityScapesDataset\n",
    "\n",
    "root = \"C:/Users/itber/Documents/datasets/cityscapes\"\n",
    "\n",
    "train_dataset = CityScapesDataset(root, transform=None, split='train', label_map='trainId', crop=False)\n",
    "valid_dataset = CityScapesDataset(root, transform=None, split='val', label_map='trainId', crop=False)\n",
    "test_dataset = CityScapesDataset(root, transform=None, split='test', label_map='trainId', crop=False)"
   ]
  },
  {
   "cell_type": "code",
   "execution_count": 4,
   "metadata": {},
   "outputs": [],
   "source": [
    "idx = 100 \n",
    "\n",
    "sample = train_dataset[idx]\n",
    "left, mask, depth = sample['left'], sample['mask'], sample['depth']"
   ]
  },
  {
   "cell_type": "code",
   "execution_count": 5,
   "metadata": {},
   "outputs": [],
   "source": [
    "H, W = mask.shape"
   ]
  },
  {
   "cell_type": "code",
   "execution_count": 6,
   "metadata": {},
   "outputs": [
    {
     "data": {
      "text/plain": [
       "((1024, 2048, 3), (1024, 2048), (1024, 2048))"
      ]
     },
     "execution_count": 6,
     "metadata": {},
     "output_type": "execute_result"
    }
   ],
   "source": [
    "left.shape, mask.shape, depth.shape"
   ]
  },
  {
   "cell_type": "code",
   "execution_count": 7,
   "metadata": {},
   "outputs": [],
   "source": [
    "rgbd = o3d.geometry.RGBDImage()\n",
    "rgbd_img = rgbd.create_from_color_and_depth(o3d.geometry.Image(left), \n",
    "                                            o3d.geometry.Image(depth.astype(np.float32)),\n",
    "                                            convert_rgb_to_intensity=False)"
   ]
  },
  {
   "cell_type": "code",
   "execution_count": 8,
   "metadata": {},
   "outputs": [
    {
     "data": {
      "text/plain": [
       "RGBDImage of size \n",
       "Color image : 2048x1024, with 3 channels.\n",
       "Depth image : 2048x1024, with 1 channels.\n",
       "Use numpy.asarray to access buffer data."
      ]
     },
     "execution_count": 8,
     "metadata": {},
     "output_type": "execute_result"
    }
   ],
   "source": [
    "rgbd_img"
   ]
  },
  {
   "cell_type": "code",
   "execution_count": 9,
   "metadata": {},
   "outputs": [],
   "source": [
    "intrinsics = o3d.camera.PinholeCameraIntrinsic(width=W, height=H, fx=fx, fy=fy, cx=u0, cy=v0)\n",
    "pcd = o3d.geometry.PointCloud.create_from_rgbd_image(rgbd_img, intrinsics)"
   ]
  },
  {
   "cell_type": "code",
   "execution_count": null,
   "metadata": {},
   "outputs": [],
   "source": [
    "# o3d.visualization.draw_plotly([pcd])"
   ]
  },
  {
   "cell_type": "code",
   "execution_count": 12,
   "metadata": {},
   "outputs": [],
   "source": [
    "pcd.estimate_normals()"
   ]
  },
  {
   "cell_type": "code",
   "execution_count": 13,
   "metadata": {},
   "outputs": [
    {
     "data": {
      "text/plain": [
       "['HalfEdgeTriangleMesh',\n",
       " 'Image',\n",
       " 'LineSet',\n",
       " 'PointCloud',\n",
       " 'RGBDImage',\n",
       " 'TetraMesh',\n",
       " 'TriangleMesh',\n",
       " 'Type',\n",
       " 'Unspecified',\n",
       " 'VoxelGrid',\n",
       " '__add__',\n",
       " '__class__',\n",
       " '__copy__',\n",
       " '__deepcopy__',\n",
       " '__delattr__',\n",
       " '__dir__',\n",
       " '__doc__',\n",
       " '__eq__',\n",
       " '__format__',\n",
       " '__ge__',\n",
       " '__getattribute__',\n",
       " '__gt__',\n",
       " '__hash__',\n",
       " '__iadd__',\n",
       " '__init__',\n",
       " '__init_subclass__',\n",
       " '__le__',\n",
       " '__lt__',\n",
       " '__module__',\n",
       " '__ne__',\n",
       " '__new__',\n",
       " '__reduce__',\n",
       " '__reduce_ex__',\n",
       " '__repr__',\n",
       " '__setattr__',\n",
       " '__sizeof__',\n",
       " '__str__',\n",
       " '__subclasshook__',\n",
       " 'clear',\n",
       " 'cluster_dbscan',\n",
       " 'colors',\n",
       " 'compute_convex_hull',\n",
       " 'compute_mahalanobis_distance',\n",
       " 'compute_mean_and_covariance',\n",
       " 'compute_nearest_neighbor_distance',\n",
       " 'compute_point_cloud_distance',\n",
       " 'covariances',\n",
       " 'create_from_depth_image',\n",
       " 'create_from_rgbd_image',\n",
       " 'crop',\n",
       " 'dimension',\n",
       " 'estimate_covariances',\n",
       " 'estimate_normals',\n",
       " 'estimate_point_covariances',\n",
       " 'farthest_point_down_sample',\n",
       " 'get_axis_aligned_bounding_box',\n",
       " 'get_center',\n",
       " 'get_geometry_type',\n",
       " 'get_max_bound',\n",
       " 'get_min_bound',\n",
       " 'get_oriented_bounding_box',\n",
       " 'get_rotation_matrix_from_axis_angle',\n",
       " 'get_rotation_matrix_from_quaternion',\n",
       " 'get_rotation_matrix_from_xyz',\n",
       " 'get_rotation_matrix_from_xzy',\n",
       " 'get_rotation_matrix_from_yxz',\n",
       " 'get_rotation_matrix_from_yzx',\n",
       " 'get_rotation_matrix_from_zxy',\n",
       " 'get_rotation_matrix_from_zyx',\n",
       " 'has_colors',\n",
       " 'has_covariances',\n",
       " 'has_normals',\n",
       " 'has_points',\n",
       " 'hidden_point_removal',\n",
       " 'is_empty',\n",
       " 'normalize_normals',\n",
       " 'normals',\n",
       " 'orient_normals_consistent_tangent_plane',\n",
       " 'orient_normals_to_align_with_direction',\n",
       " 'orient_normals_towards_camera_location',\n",
       " 'paint_uniform_color',\n",
       " 'points',\n",
       " 'random_down_sample',\n",
       " 'remove_duplicated_points',\n",
       " 'remove_non_finite_points',\n",
       " 'remove_radius_outlier',\n",
       " 'remove_statistical_outlier',\n",
       " 'rotate',\n",
       " 'scale',\n",
       " 'segment_plane',\n",
       " 'select_by_index',\n",
       " 'transform',\n",
       " 'translate',\n",
       " 'uniform_down_sample',\n",
       " 'voxel_down_sample',\n",
       " 'voxel_down_sample_and_trace']"
      ]
     },
     "execution_count": 13,
     "metadata": {},
     "output_type": "execute_result"
    }
   ],
   "source": [
    "dir(pcd)"
   ]
  },
  {
   "cell_type": "code",
   "execution_count": 15,
   "metadata": {},
   "outputs": [],
   "source": [
    "o3d.visualization.draw_geometries([pcd])"
   ]
  },
  {
   "cell_type": "code",
   "execution_count": 18,
   "metadata": {},
   "outputs": [
    {
     "data": {
      "text/plain": [
       "(2097152, 3)"
      ]
     },
     "execution_count": 18,
     "metadata": {},
     "output_type": "execute_result"
    }
   ],
   "source": [
    "np.asarray(pcd.normals).shape"
   ]
  },
  {
   "cell_type": "code",
   "execution_count": 19,
   "metadata": {},
   "outputs": [
    {
     "data": {
      "text/plain": [
       "array([[-0.22521225, -0.10521871,  0.46450001],\n",
       "       [-0.23263635, -0.10878641,  0.48025   ],\n",
       "       [-0.23738473, -0.11110824,  0.4905    ],\n",
       "       ...,\n",
       "       [ 0.0020214 ,  0.00108581,  0.00482422],\n",
       "       [ 0.00204647,  0.00109812,  0.00487891],\n",
       "       [ 0.0021208 ,  0.00113681,  0.00505078]])"
      ]
     },
     "execution_count": 19,
     "metadata": {},
     "output_type": "execute_result"
    }
   ],
   "source": [
    "np.asarray(pcd.points)"
   ]
  },
  {
   "attachments": {},
   "cell_type": "markdown",
   "metadata": {},
   "source": [
    "Need to project points back to image\n",
    "\n",
    "sources: \n",
    "- https://hedivision.github.io/Pinhole.html\n",
    "- https://en.wikipedia.org/wiki/Rotation_matrix"
   ]
  },
  {
   "cell_type": "code",
   "execution_count": 26,
   "metadata": {},
   "outputs": [],
   "source": [
    "# instrinsic matrix/camera matrix\n",
    "K = np.array([\n",
    "    [fx, 0, u0],\n",
    "    [0, fx, v0],\n",
    "    [0, 0, 0]\n",
    "])\n",
    "\n",
    "# translation vector\n",
    "t = np.array([\n",
    "        [1.7],\n",
    "        [0.1],\n",
    "        [1.22]\n",
    "])\n",
    "\n",
    "# rotation matrix\n",
    "alpha = -0.0195 # yaw\n",
    "beta = 0.038    # pitch\n",
    "gamma = 0.0     # roll\n",
    "R = np.array([\n",
    "    [np.cos(beta)*np.cos(gamma), np.sin(alpha)*np.sin(beta)*np.cos(gamma) - np.cos(alpha)*np.sin(gamma), np.cos(alpha)*np.sin(beta)*np.cos(gamma) + np.sin(alpha)*np.sin(gamma)],\n",
    "    [np.cos(beta)*np.sin(gamma), np.sin(alpha)*np.sin(beta)*np.sin(gamma) + np.cos(alpha)*np.cos(gamma), np.cos(alpha)*np.sin(beta)*np.sin(gamma) - np.sin(alpha)*np.cos(gamma)],\n",
    "    [-np.sin(beta), np.sin(alpha)*np.cos(beta), np.cos(alpha)*np.cos(beta)]\n",
    "])\n",
    "\n",
    "# Projection Matrix\n",
    "P = K @ np.vstack(np.hstack((R, t)), np.array([0, 0, 0, 1]))"
   ]
  },
  {
   "cell_type": "code",
   "execution_count": 36,
   "metadata": {},
   "outputs": [
    {
     "data": {
      "text/plain": [
       "array([[2219.21144864,  -23.05033046, 1181.91839789, 5184.5996    ],\n",
       "       [ -19.49451353, 2252.09153777,  556.78541702,  852.27914   ],\n",
       "       [   0.        ,    0.        ,    0.        ,    0.        ]])"
      ]
     },
     "execution_count": 36,
     "metadata": {},
     "output_type": "execute_result"
    }
   ],
   "source": [
    "P"
   ]
  },
  {
   "cell_type": "code",
   "execution_count": 35,
   "metadata": {},
   "outputs": [
    {
     "data": {
      "text/plain": [
       "(4, 4)"
      ]
     },
     "execution_count": 35,
     "metadata": {},
     "output_type": "execute_result"
    }
   ],
   "source": [
    "np.vstack((np.hstack((R, t)), np.array([0, 0, 0, 1]))).shape"
   ]
  },
  {
   "cell_type": "code",
   "execution_count": 31,
   "metadata": {},
   "outputs": [
    {
     "data": {
      "text/plain": [
       "array([[-0.22521225],\n",
       "       [-0.10521871],\n",
       "       [ 0.46450001],\n",
       "       [ 1.        ]])"
      ]
     },
     "execution_count": 31,
     "metadata": {},
     "output_type": "execute_result"
    }
   ],
   "source": [
    "pnt = np.c_[np.array([-0.22521225, -0.10521871,  0.46450001, 1])]\n",
    "pnt"
   ]
  },
  {
   "cell_type": "code",
   "execution_count": 49,
   "metadata": {},
   "outputs": [
    {
     "data": {
      "text/plain": [
       "array([[5220.55249528],\n",
       "       [ 853.12794735],\n",
       "       [   0.        ]])"
      ]
     },
     "execution_count": 49,
     "metadata": {},
     "output_type": "execute_result"
    }
   ],
   "source": [
    "P @ np.c_[np.hstack((np.asarray(pcd.points)[10000], 1))]"
   ]
  },
  {
   "cell_type": "code",
   "execution_count": 46,
   "metadata": {},
   "outputs": [
    {
     "data": {
      "text/plain": [
       "array([[-0.00149755],\n",
       "       [-0.00791406],\n",
       "       [ 0.0349375 ]])"
      ]
     },
     "execution_count": 46,
     "metadata": {},
     "output_type": "execute_result"
    }
   ],
   "source": [
    "np.c_[np.asarray(pcd.points)[1000]]"
   ]
  },
  {
   "cell_type": "code",
   "execution_count": null,
   "metadata": {},
   "outputs": [],
   "source": []
  }
 ],
 "metadata": {
  "kernelspec": {
   "display_name": "base",
   "language": "python",
   "name": "python3"
  },
  "language_info": {
   "codemirror_mode": {
    "name": "ipython",
    "version": 3
   },
   "file_extension": ".py",
   "mimetype": "text/x-python",
   "name": "python",
   "nbconvert_exporter": "python",
   "pygments_lexer": "ipython3",
   "version": "3.9.13"
  },
  "orig_nbformat": 4
 },
 "nbformat": 4,
 "nbformat_minor": 2
}
