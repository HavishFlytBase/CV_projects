{
 "cells": [
  {
   "cell_type": "markdown",
   "metadata": {},
   "source": [
    "# **Aniogram Filtering**\n",
    "\n",
    "In this notebook we will perform adaptive angular filtering on Cornary Aniograms\n",
    "\n",
    "\n",
    "Data Source: http://personal.cimat.mx:8181/~ivan.cruz/Journals/DB_Angiograms.html"
   ]
  },
  {
   "cell_type": "code",
   "execution_count": null,
   "metadata": {},
   "outputs": [],
   "source": []
  }
 ],
 "metadata": {
  "kernelspec": {
   "display_name": "base",
   "language": "python",
   "name": "python3"
  },
  "language_info": {
   "name": "python",
   "version": "3.11.5"
  }
 },
 "nbformat": 4,
 "nbformat_minor": 2
}
