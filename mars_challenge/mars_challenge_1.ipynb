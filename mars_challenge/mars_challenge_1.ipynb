{
  "nbformat": 4,
  "nbformat_minor": 0,
  "metadata": {
    "colab": {
      "provenance": [],
      "authorship_tag": "ABX9TyOU8lZl0/74N4/i8oxuLd8Y",
      "include_colab_link": true
    },
    "kernelspec": {
      "name": "python3",
      "display_name": "Python 3"
    },
    "language_info": {
      "name": "python"
    }
  },
  "cells": [
    {
      "cell_type": "markdown",
      "metadata": {
        "id": "view-in-github",
        "colab_type": "text"
      },
      "source": [
        "<a href=\"https://colab.research.google.com/github/itberrios/CV_projects/blob/main/mars_challenge/mars_challenge_1.ipynb\" target=\"_parent\"><img src=\"https://colab.research.google.com/assets/colab-badge.svg\" alt=\"Open In Colab\"/></a>"
      ]
    },
    {
      "cell_type": "markdown",
      "source": [
        "# **Mars Challenge**\n",
        "\n",
        "The [MARS Challenge](https://blog.marsauto.com/introducing-the-mars-challenge-fc84c5afafbe) involves estimated the velocity of an ego camera mounted on a vehicel using only video (with train and test splits)\n",
        "\n",
        "We will attempt the MARS challenge with a simple approach\n",
        "\n",
        "1. Compute Camera Motion Compension transformation matrix\n",
        "2. Use Transformation Matrix and true speed values to train a model that will regress the velocity\n",
        "\n",
        "\n",
        "We will train multiple baseline models and compare their performances. However, we will avoid ensembling since we are interested in real time applications. Let's get started!"
      ],
      "metadata": {
        "id": "MbOpzzhq5KbW"
      }
    },
    {
      "cell_type": "markdown",
      "source": [
        "![image.png](data:image/png;base64,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)"
      ],
      "metadata": {
        "id": "fTXGsV3n6OPp"
      }
    },
    {
      "cell_type": "markdown",
      "source": [
        "Download the data"
      ],
      "metadata": {
        "id": "qjUHvRyz6PXR"
      }
    },
    {
      "cell_type": "code",
      "execution_count": 1,
      "metadata": {
        "colab": {
          "base_uri": "https://localhost:8080/"
        },
        "id": "SjciQmiB5Juy",
        "outputId": "4307b2be-b517-45c8-b6a5-0a9f89b7fc58"
      },
      "outputs": [
        {
          "output_type": "stream",
          "name": "stdout",
          "text": [
            "test.mp4            100%[===================>] 399.79M  15.1MB/s    in 29s     \n",
            "\n",
            "2023-08-26 22:15:27 (13.9 MB/s) - ‘test.mp4’ saved [419215517/419215517]\n",
            "\n"
          ]
        }
      ],
      "source": [
        "!wget https://marschallenge.s3.ap-northeast-2.amazonaws.com/train.mp4\n",
        "!wget https://marschallenge.s3.ap-northeast-2.amazonaws.com/train.txt\n",
        "!wget https://marschallenge.s3.ap-northeast-2.amazonaws.com/test.mp4"
      ]
    },
    {
      "cell_type": "markdown",
      "source": [
        "### **Import Libraries**"
      ],
      "metadata": {
        "id": "DY_5o7wi6ek5"
      }
    },
    {
      "cell_type": "code",
      "source": [
        "import os\n",
        "import numpy as np\n",
        "import pandas as pd\n",
        "import cv2\n",
        "import matplotlib.pyplot as plt\n",
        "\n",
        "%matplotlib inline"
      ],
      "metadata": {
        "id": "6BA_hhyz6ZQP"
      },
      "execution_count": 3,
      "outputs": []
    },
    {
      "cell_type": "markdown",
      "source": [
        "### **Set up pipeline to collect transformation matrices for each frame pair**"
      ],
      "metadata": {
        "id": "RWj9LdhU6jz7"
      }
    },
    {
      "cell_type": "code",
      "source": [
        "def compute_motion(frame1 : np.ndarray,\n",
        "                   frame2 : np.ndarray,\n",
        "                   method : int,\n",
        "                   params : dict) -> np.ndarray:\n",
        "    \"\"\"\n",
        "    Computes motion compensation transformation matrix (a rigid body transform)\n",
        "    from frame 1 to frame 2\n",
        "    Inputs:\n",
        "      frame 1 - first grayscale frame\n",
        "      frame 2 - second grayscale frame\n",
        "      method - determines the method of feature detection\n",
        "      params - parameters for feature detection\n",
        "    Outputs:\n",
        "      A - 2x3 Affine Transformation matrix that maps frame1 to frame2\n",
        "      prev_points - key points in frame 1\n",
        "      curr_points - matched key points in frame 2\n",
        "    \"\"\"\n",
        "\n",
        "    # get corners of first image\n",
        "    if method == 0:\n",
        "        fast = cv2.FastFeatureDetector_create(**params)\n",
        "        corners = cv2.KeyPoint_convert(fast.detect(frame1, None))\n",
        "    elif method == 1:\n",
        "        corners = cv2.goodFeaturesToTrack(frame1, **params)\n",
        "\n",
        "    # get matching features on next image\n",
        "    matched_corners, status, error = cv2.calcOpticalFlowPyrLK(frame1, frame2, corners, None)\n",
        "\n",
        "    # get valid matched features\n",
        "    status = status.reshape((-1))\n",
        "    prev_points = corners.reshape((-1, 2))[status==1]\n",
        "    curr_points = matched_corners.reshape((-1, 2))[status==1]\n",
        "\n",
        "    # estimate transformation matrix from frame 1 to frame 2\n",
        "    A, _ = cv2.estimateAffinePartial2D(prev_points, curr_points, method=cv2.RANSAC)\n",
        "\n",
        "    return A, prev_points, curr_points"
      ],
      "metadata": {
        "id": "WB0vT8TE6gba"
      },
      "execution_count": 4,
      "outputs": []
    },
    {
      "cell_type": "markdown",
      "source": [
        "Set Parameters"
      ],
      "metadata": {
        "id": "K67JMjkl7lzh"
      }
    },
    {
      "cell_type": "code",
      "source": [
        "# FAST (larger threshold --> fewer features )\n",
        "params_0 = {'threshold' : 10}\n",
        "\n",
        "# Shi-Thomasi\n",
        "params_1 = {'maxCorners' : 500,\n",
        "            'qualityLevel' : 0.01,\n",
        "            'minDistance' : 10}\n",
        ""
      ],
      "metadata": {
        "id": "FuHA_3dn7m5b"
      },
      "execution_count": null,
      "outputs": []
    },
    {
      "cell_type": "markdown",
      "source": [
        "Stream video and get training features"
      ],
      "metadata": {
        "id": "XvLD6E929RXC"
      }
    },
    {
      "cell_type": "code",
      "source": [
        "cap = cv2.VideoCapture(\"train.mp4\")\n",
        "\n",
        "if (cap.isOpened() == False):\n",
        "    print(\"Error opening video file\")\n",
        "\n",
        "X = []\n",
        "prev_frame = None\n",
        "i = 0\n",
        "while(cap.isOpened()):\n",
        "\n",
        "    # read each video frame\n",
        "    ret, frame = cap.read()\n",
        "\n",
        "    if ret == True:\n",
        "        if i > 0:\n",
        "          gray1 = cv2.cvtColor(frame, cv2.COLOR_BGR2GRAY)\n",
        "          gray2 = cv2.cvtColor(prev_frame, cv2.COLOR_BGR2GRAY)\n",
        "          A, _, _ = compute_motion(gray1, gray2, method=0, params=params_0)\n",
        "\n",
        "          # update features (transpose allows for separation of rot and trans)\n",
        "          X.append(A.T.flatten())\n",
        "\n",
        "        # update previous frame\n",
        "        prev_frame = frame.copy()\n",
        "\n",
        "        # increment counter\n",
        "        i += 1\n",
        "\n",
        "    # Break if nothing is returned\n",
        "    else:\n",
        "        break\n",
        "\n",
        "# clean up\n",
        "cap.release()\n",
        "cv2.destroyAllWindows()"
      ],
      "metadata": {
        "id": "jIvUDGdg7GiC"
      },
      "execution_count": 23,
      "outputs": []
    },
    {
      "cell_type": "markdown",
      "source": [
        "Store feature array in .txt file"
      ],
      "metadata": {
        "id": "Su8tHOWy-0dd"
      }
    },
    {
      "cell_type": "code",
      "source": [
        "# place in array and account for first frame\n",
        "X = np.vstack((np.zeros(6), np.array(X)))\n",
        "print(X.shape)\n",
        "\n",
        "np.savetxt('train_X.txt', X)\n",
        "\n",
        "# convert back to 2x3 Transformation Matrix\n",
        "# X[-1, :].reshape((3,2)).T"
      ],
      "metadata": {
        "colab": {
          "base_uri": "https://localhost:8080/"
        },
        "id": "RM92NTXP-3jz",
        "outputId": "90cf66ff-f2d8-43d0-cae3-f83e07d1970a"
      },
      "execution_count": 40,
      "outputs": [
        {
          "output_type": "stream",
          "name": "stdout",
          "text": [
            "(8100, 6)\n"
          ]
        }
      ]
    },
    {
      "cell_type": "markdown",
      "source": [
        "The training data that we have just aquired consists of the Camera Motion Compensation transformation for speed at each time stamp (except the first)."
      ],
      "metadata": {
        "id": "Gv0c6PUBY1Zt"
      }
    },
    {
      "cell_type": "markdown",
      "source": [
        "## **Break into train, valid, test splits**\n"
      ],
      "metadata": {
        "id": "TS5wyPddBB_u"
      }
    },
    {
      "cell_type": "code",
      "source": [
        "# load target variable (speeds)\n",
        "y = np.loadtxt('train.txt')\n",
        "\n",
        "# neglect first training sample\n",
        "y = y[1:]\n",
        "X = X[1:, :]\n",
        "\n",
        "print(X.shape, y.shape)"
      ],
      "metadata": {
        "colab": {
          "base_uri": "https://localhost:8080/"
        },
        "id": "R1Mp9MrmBNZY",
        "outputId": "81afcc9b-296d-4a54-cca7-847602685ddf"
      },
      "execution_count": 45,
      "outputs": [
        {
          "output_type": "stream",
          "name": "stdout",
          "text": [
            "(8099, 6) (8099,)\n"
          ]
        }
      ]
    },
    {
      "cell_type": "code",
      "source": [
        "from sklearn.model_selection import train_test_split\n",
        "\n",
        "X_train, X_test, y_train, y_test = train_test_split(X, y, test_size=0.2)\n",
        "X_valid, X_test, y_valid, y_test = train_test_split(X_test, y_test, test_size=0.5)"
      ],
      "metadata": {
        "id": "6B6eFjuLCYJe"
      },
      "execution_count": 73,
      "outputs": []
    },
    {
      "cell_type": "code",
      "source": [
        "X_train.shape, X_valid.shape, X_test.shape"
      ],
      "metadata": {
        "colab": {
          "base_uri": "https://localhost:8080/"
        },
        "id": "S4CfzOxxCbrr",
        "outputId": "204fa451-4fe2-4544-932a-33dd3f9fa335"
      },
      "execution_count": 74,
      "outputs": [
        {
          "output_type": "execute_result",
          "data": {
            "text/plain": [
              "((6479, 6), (810, 6), (810, 6))"
            ]
          },
          "metadata": {},
          "execution_count": 74
        }
      ]
    },
    {
      "cell_type": "markdown",
      "source": [
        "## **Study the Collected Features**"
      ],
      "metadata": {
        "id": "sonppOZA-V_S"
      }
    },
    {
      "cell_type": "code",
      "source": [
        "A"
      ],
      "metadata": {
        "colab": {
          "base_uri": "https://localhost:8080/"
        },
        "id": "NycpkbG3DEtH",
        "outputId": "1b3d2efd-36a3-4540-aad1-717dd49305e7"
      },
      "execution_count": 77,
      "outputs": [
        {
          "output_type": "execute_result",
          "data": {
            "text/plain": [
              "array([[ 9.95056562e-01, -9.76278689e-04,  1.62505803e+00],\n",
              "       [ 9.76278689e-04,  9.95056562e-01, -4.61654648e+00]])"
            ]
          },
          "metadata": {},
          "execution_count": 77
        }
      ]
    },
    {
      "cell_type": "code",
      "source": [
        "X[-1, :]"
      ],
      "metadata": {
        "colab": {
          "base_uri": "https://localhost:8080/"
        },
        "id": "0RE_1G4RDFZN",
        "outputId": "8fbe7879-827d-4d5e-c77a-5165e716c18c"
      },
      "execution_count": 78,
      "outputs": [
        {
          "output_type": "execute_result",
          "data": {
            "text/plain": [
              "array([ 9.95056562e-01,  9.76278689e-04, -9.76278689e-04,  9.95056562e-01,\n",
              "        1.62505803e+00, -4.61654648e+00])"
            ]
          },
          "metadata": {},
          "execution_count": 78
        }
      ]
    },
    {
      "cell_type": "code",
      "source": [
        "_, ax = plt.subplots(2, 3, figsize=(15, 8))\n",
        "ax[0, 0].hist(X_train[:, 0], bins=50)\n",
        "ax[0, 0].set_title(\"Rotation Matrix (0,0)\", size=12)\n",
        "ax[0, 1].hist(X_train[:, 1], bins=50)\n",
        "ax[0, 1].set_title(\"Rotation Matrix (0,1)\", size=12)\n",
        "ax[0, 2].hist(X_train[:, 2], bins=50)\n",
        "ax[0, 2].set_title(\"Rotation Matrix (1,0)\", size=12)\n",
        "ax[1, 0].hist(X_train[:, 3], bins=50)\n",
        "ax[1, 0].set_xlabel(\"Rotation Matrix (1,1)\", size=12)\n",
        "ax[1, 1].hist(X_train[:, 4], bins=50)\n",
        "ax[1, 1].set_xlabel(\"Horizontal Translation\", size=12)\n",
        "ax[1, 2].hist(X_train[:, 5], bins=50)\n",
        "ax[1,2].set_xlabel(\"Vertical Translation\", size=12);\n"
      ],
      "metadata": {
        "colab": {
          "base_uri": "https://localhost:8080/",
          "height": 722
        },
        "id": "Ns7k1z-LC5Ar",
        "outputId": "76126fec-bb2b-456f-8e41-2c23e81c5d2c"
      },
      "execution_count": 91,
      "outputs": [
        {
          "output_type": "display_data",
          "data": {
            "text/plain": [
              "<Figure size 1500x800 with 6 Axes>"
            ],
            "image/png": "[encoded data removed]"
          },
          "metadata": {}
        }
      ]
    },
    {
      "cell_type": "code",
      "source": [
        "plt.hist(y_train, bins=200);"
      ],
      "metadata": {
        "colab": {
          "base_uri": "https://localhost:8080/",
          "height": 430
        },
        "id": "M14R535JF-O2",
        "outputId": "6bf746ce-bb66-4cbd-d39e-3a15b2a10309"
      },
      "execution_count": 97,
      "outputs": [
        {
          "output_type": "display_data",
          "data": {
            "text/plain": [
              "<Figure size 640x480 with 1 Axes>"
            ],
            "image/png": "[encoded data removed]"
          },
          "metadata": {}
        }
      ]
    },
    {
      "cell_type": "markdown",
      "source": [
        "We will operate under the assumption that large outliers are due to large object motion and not camera motion. We further assume that true camera motion is very small and incremental. Because of these assumptions, we will not normalize the data."
      ],
      "metadata": {
        "id": "n6kXXeOWFYFY"
      }
    },
    {
      "cell_type": "code",
      "source": [
        "from sklearn.preprocessing import StandardScaler\n",
        "\n",
        "x_scaler = StandardScaler().fit(X_train)\n",
        "y_scaler = StandardScaler().fit(y_train.reshape((-1, 1)))"
      ],
      "metadata": {
        "id": "c88YM5mSUDb2"
      },
      "execution_count": 255,
      "outputs": []
    },
    {
      "cell_type": "code",
      "source": [
        "# test scaler\n",
        "x_scaler.transform(X_train).mean(axis=0), x_scaler.transform(X_train).std(axis=0)"
      ],
      "metadata": {
        "colab": {
          "base_uri": "https://localhost:8080/"
        },
        "id": "sN892QEgUPvU",
        "outputId": "dbc196e3-1b1c-4e95-b525-59e3f854041c"
      },
      "execution_count": 256,
      "outputs": [
        {
          "output_type": "execute_result",
          "data": {
            "text/plain": [
              "(array([-3.38995051e-13,  4.04874124e-17, -4.04874124e-17, -3.38995051e-13,\n",
              "        -4.96978597e-17, -7.27839527e-16]),\n",
              " array([1., 1., 1., 1., 1., 1.]))"
            ]
          },
          "metadata": {},
          "execution_count": 256
        }
      ]
    },
    {
      "cell_type": "code",
      "source": [
        "# test inverse scaler\n",
        "X_train.mean(axis=0), X_train.std(axis=0)"
      ],
      "metadata": {
        "colab": {
          "base_uri": "https://localhost:8080/"
        },
        "id": "N-ykdVhwUxMd",
        "outputId": "2c1baa6d-eadf-4edd-fd38-4f2fdbd14a87"
      },
      "execution_count": 249,
      "outputs": [
        {
          "output_type": "execute_result",
          "data": {
            "text/plain": [
              "(array([ 9.93417451e-01, -1.82737179e-04,  1.82737179e-04,  9.93417451e-01,\n",
              "         3.14287375e+00,  8.19073013e-01]),\n",
              " array([3.54570887e-03, 1.43928942e-03, 1.43928942e-03, 3.54570887e-03,\n",
              "        5.98985173e+00, 2.04217432e+00]))"
            ]
          },
          "metadata": {},
          "execution_count": 249
        }
      ]
    },
    {
      "cell_type": "code",
      "source": [
        "x_scaler.inverse_transform(x_scaler.transform(X_train)).mean(axis=0), x_scaler.inverse_transform(x_scaler.transform(X_train)).std(axis=0)"
      ],
      "metadata": {
        "colab": {
          "base_uri": "https://localhost:8080/"
        },
        "id": "Z-QCFTJXU2tq",
        "outputId": "6e18fd3a-18ed-4109-9ea6-8ecca49791e0"
      },
      "execution_count": 257,
      "outputs": [
        {
          "output_type": "execute_result",
          "data": {
            "text/plain": [
              "(array([ 9.93417451e-01, -1.82737179e-04,  1.82737179e-04,  9.93417451e-01,\n",
              "         3.14287375e+00,  8.19073013e-01]),\n",
              " array([3.54570887e-03, 1.43928942e-03, 1.43928942e-03, 3.54570887e-03,\n",
              "        5.98985173e+00, 2.04217432e+00]))"
            ]
          },
          "metadata": {},
          "execution_count": 257
        }
      ]
    },
    {
      "cell_type": "markdown",
      "source": [
        "# **Build Baseline Models**\n",
        "\n",
        "For this tutorial we will build a few baseline models\n",
        "- Linear Model\n",
        "- Neural Network\n",
        "- Support Vector Machine\n",
        "- Random Forest\n",
        "- XGBoost"
      ],
      "metadata": {
        "id": "cx8KkHqo9Z90"
      }
    },
    {
      "cell_type": "code",
      "source": [
        "import xgboost as xgb\n",
        "from sklearn.linear_model import ElasticNet\n",
        "from sklearn import svm\n",
        "\n",
        "\n",
        "enet = ElasticNet(alpha=0.08, l1_ratio=0.05)\n",
        "svr = svm.SVR()\n",
        "\n",
        "xgb_rf = xgb.XGBRFRegressor()\n",
        "xgbr = xgb.XGBRegressor()"
      ],
      "metadata": {
        "id": "rGxMBDiF8g5L"
      },
      "execution_count": 119,
      "outputs": []
    },
    {
      "cell_type": "markdown",
      "source": [
        "Build neural network"
      ],
      "metadata": {
        "id": "LEXsn4iwJcsv"
      }
    },
    {
      "cell_type": "code",
      "source": [
        "import torch\n",
        "import torch.nn as nn\n",
        "import torch.nn.functional as F\n",
        "\n",
        "\n",
        "class Net(nn.Module):\n",
        "\n",
        "    def __init__(self):\n",
        "        super(Net, self).__init__()\n",
        "        self.fc1 = nn.Linear(6, 10)\n",
        "        self.fc2 = nn.Linear(10, 4)\n",
        "        self.fc3 = nn.Linear(4, 1)\n",
        "\n",
        "    def forward(self, x):\n",
        "        # x1 = F.relu(self.fc1(x))\n",
        "        # x2 = F.relu(self.fc2(x1))\n",
        "        # x3 = F.relu(self.fc3(x2 + x1))\n",
        "\n",
        "        x = F.relu(self.fc1(x))\n",
        "        x = F.relu(self.fc2(x))\n",
        "        x = F.relu(self.fc3(x))\n",
        "\n",
        "        return x\n",
        "\n",
        "\n",
        "net = Net()\n",
        "print(net)\n",
        "\n",
        "# test pass\n",
        "# net(torch.rand(32, 6))"
      ],
      "metadata": {
        "colab": {
          "base_uri": "https://localhost:8080/"
        },
        "id": "OM1ms6ksGd5e",
        "outputId": "eb8b150c-bfac-4548-a1f2-f7fca04026fe"
      },
      "execution_count": 283,
      "outputs": [
        {
          "output_type": "stream",
          "name": "stdout",
          "text": [
            "Net(\n",
            "  (fc1): Linear(in_features=6, out_features=10, bias=True)\n",
            "  (fc2): Linear(in_features=10, out_features=4, bias=True)\n",
            "  (fc3): Linear(in_features=4, out_features=1, bias=True)\n",
            ")\n"
          ]
        }
      ]
    },
    {
      "cell_type": "markdown",
      "source": [
        "### **Train models**"
      ],
      "metadata": {
        "id": "_esfH77JJe--"
      }
    },
    {
      "cell_type": "code",
      "source": [
        "# scale data\n",
        "X_train_s = x_scaler.transform(X_train)\n",
        "y_train_s = y_scaler.transform(y_train.reshape((-1, 1)))\n",
        "X_valid_s = x_scaler.transform(X_valid)\n",
        "y_valid_s = y_scaler.transform(y_valid.reshape((-1, 1)))\n",
        "\n",
        "\n",
        "enet.fit(X_train_s, y_train_s)\n",
        "print(\"Elastic Net fit complete\")\n",
        "\n",
        "svr.fit(X_train_s, y_train_s)\n",
        "print(\"Support Vector Machine Regressor fit complete\")\n",
        "\n",
        "xgb_rf.fit(X_train_s, y_train_s)\n",
        "print(\"Random Forest fit complete\")\n",
        "\n",
        "xgbr.fit(X_train_s, y_train_s)\n",
        "print(\"XGBoost fit complete\")"
      ],
      "metadata": {
        "colab": {
          "base_uri": "https://localhost:8080/"
        },
        "id": "VncMyD5hIzsf",
        "outputId": "d6c05320-1431-43c4-f0dc-e9c3a6a43d3c"
      },
      "execution_count": 291,
      "outputs": [
        {
          "output_type": "stream",
          "name": "stdout",
          "text": [
            "Elastic Net fit complete\n"
          ]
        },
        {
          "output_type": "stream",
          "name": "stderr",
          "text": [
            "/usr/local/lib/python3.10/dist-packages/sklearn/utils/validation.py:1143: DataConversionWarning: A column-vector y was passed when a 1d array was expected. Please change the shape of y to (n_samples, ), for example using ravel().\n",
            "  y = column_or_1d(y, warn=True)\n"
          ]
        },
        {
          "output_type": "stream",
          "name": "stdout",
          "text": [
            "Support Vector Machine Regressor fit complete\n",
            "Random Forest fit complete\n",
            "XGBoost fit complete\n"
          ]
        }
      ]
    },
    {
      "cell_type": "markdown",
      "source": [
        "Train Neural Network"
      ],
      "metadata": {
        "id": "n0KnUMh1L4Fv"
      }
    },
    {
      "cell_type": "code",
      "source": [
        "from torch.utils.data import Dataset, DataLoader\n",
        "\n",
        "\n",
        "class CustomDataset(Dataset):\n",
        "    def __init__(self, data, targets):\n",
        "        self.data = data\n",
        "        self.targets = targets\n",
        "\n",
        "    def __getitem__(self, index):\n",
        "        x = self.data[index]\n",
        "        y = self.targets[index]\n",
        "        return x,y\n",
        "\n",
        "    def __len__(self):\n",
        "        return len(self.data)\n",
        "\n",
        "\n",
        "train_dataset = CustomDataset(x_scaler.transform(X_train),\n",
        "                              y_scaler.transform(y_train.reshape((-1, 1))))\n",
        "valid_dataset = CustomDataset(x_scaler.transform(X_valid),\n",
        "                              y_scaler.transform(y_valid.reshape((-1, 1))))\n",
        "\n",
        "trainloader = DataLoader(train_dataset, batch_size=32)\n",
        "validloader = DataLoader(valid_dataset, batch_size=32)"
      ],
      "metadata": {
        "id": "EPBxL95mKVh9"
      },
      "execution_count": 284,
      "outputs": []
    },
    {
      "cell_type": "code",
      "source": [
        "import torch.optim as optim\n",
        "\n",
        "criterion = nn.MSELoss()\n",
        "# optimizer = optim.SGD(net.parameters(), lr=0.1, momentum=0.005)\n",
        "optimizer = optim.Adam(net.parameters(), lr=0.03)"
      ],
      "metadata": {
        "id": "zRSSNt6JMtj1"
      },
      "execution_count": 285,
      "outputs": []
    },
    {
      "cell_type": "code",
      "source": [
        "train_loss = []\n",
        "valid_loss = []\n",
        "for e in range(100):\n",
        "\n",
        "    # train loop\n",
        "    train_losses = []\n",
        "    for x,y in trainloader:\n",
        "        # cast to float32\n",
        "        x, y = x.to(torch.float), y.to(torch.float)\n",
        "\n",
        "        y_pred = net(x)\n",
        "        loss = torch.sqrt(criterion(y, y_pred))\n",
        "\n",
        "        optimizer.zero_grad()\n",
        "        loss.backward()\n",
        "        optimizer.step()\n",
        "\n",
        "        train_losses.append(loss.detach().numpy())\n",
        "\n",
        "    # update loss\n",
        "    train_loss.append(np.sum(train_losses)/len(trainloader))\n",
        "\n",
        "\n",
        "    # validation loop\n",
        "    valid_losses = []\n",
        "    with torch.no_grad():\n",
        "        for x,y in validloader:\n",
        "            # cast to float32\n",
        "            x, y = x.to(torch.float), y.to(torch.float)\n",
        "\n",
        "            y_pred = net(x)\n",
        "            loss = torch.sqrt(criterion(y, y_pred))\n",
        "\n",
        "            valid_losses.append(loss.detach().numpy())\n",
        "\n",
        "        valid_loss.append(np.sum(valid_losses)/len(validloader))\n",
        "\n",
        "    # print progress\n",
        "    print(f\"Epoch: {e+1} - train loss: {train_loss[-1]} - valid loss: {valid_loss[-1]}\")"
      ],
      "metadata": {
        "colab": {
          "base_uri": "https://localhost:8080/"
        },
        "id": "_WFAuFhFMKxX",
        "outputId": "df5503e3-6daf-469e-ff97-f8543ac7143c"
      },
      "execution_count": 286,
      "outputs": [
        {
          "output_type": "stream",
          "name": "stdout",
          "text": [
            "Epoch: 1 - train loss: 0.9401401463400554 - valid loss: 0.9736565076387845\n",
            "Epoch: 2 - train loss: 0.9043353602216748 - valid loss: 0.9474897384643555\n",
            "Epoch: 3 - train loss: 0.8962668432977986 - valid loss: 0.9451274138230544\n",
            "Epoch: 4 - train loss: 0.8942988353409791 - valid loss: 0.9440398583045373\n",
            "Epoch: 5 - train loss: 0.8937304266567888 - valid loss: 0.9446031130277194\n",
            "Epoch: 6 - train loss: 0.8946712099272629 - valid loss: 0.9430912457979642\n",
            "Epoch: 7 - train loss: 0.8921929721174569 - valid loss: 0.9459952574509841\n",
            "Epoch: 8 - train loss: 0.8958394468711515 - valid loss: 0.9450776760394757\n",
            "Epoch: 9 - train loss: 0.8943856525890933 - valid loss: 0.9463489239032452\n",
            "Epoch: 10 - train loss: 0.8917010077114763 - valid loss: 0.9429085071270282\n",
            "Epoch: 11 - train loss: 0.8902669822053956 - valid loss: 0.9422786419208233\n",
            "Epoch: 12 - train loss: 0.8911890490301724 - valid loss: 0.9402982271634616\n",
            "Epoch: 13 - train loss: 0.8905143549876847 - valid loss: 0.9444421621469351\n",
            "Epoch: 14 - train loss: 0.8904244559151786 - valid loss: 0.9388450475839468\n",
            "Epoch: 15 - train loss: 0.8898822051550954 - valid loss: 0.9400083101712741\n",
            "Epoch: 16 - train loss: 0.8898881433045336 - valid loss: 0.9399084678063025\n",
            "Epoch: 17 - train loss: 0.8890615378694581 - valid loss: 0.9392257103553185\n",
            "Epoch: 18 - train loss: 0.8891730848791564 - valid loss: 0.939754999600924\n",
            "Epoch: 19 - train loss: 0.8897874954298799 - valid loss: 0.9409542083740234\n",
            "Epoch: 20 - train loss: 0.8896275412272937 - valid loss: 0.9404483941885141\n",
            "Epoch: 21 - train loss: 0.8897096981555958 - valid loss: 0.9412855001596304\n",
            "Epoch: 22 - train loss: 0.8893417583897784 - valid loss: 0.9393578309279221\n",
            "Epoch: 23 - train loss: 0.8910725410348677 - valid loss: 0.942440913273738\n",
            "Epoch: 24 - train loss: 0.8895720683882389 - valid loss: 0.9418834539560171\n",
            "Epoch: 25 - train loss: 0.8891330963285099 - valid loss: 0.9406810173621545\n",
            "Epoch: 26 - train loss: 0.8908011901554803 - valid loss: 0.9401626586914062\n",
            "Epoch: 27 - train loss: 0.8900417835254387 - valid loss: 0.9418307817899264\n",
            "Epoch: 28 - train loss: 0.8904221257552725 - valid loss: 0.9432608531071589\n",
            "Epoch: 29 - train loss: 0.8903617670970597 - valid loss: 0.9410897034865159\n",
            "Epoch: 30 - train loss: 0.8886521813904711 - valid loss: 0.9418783921461839\n",
            "Epoch: 31 - train loss: 0.8883519665948276 - valid loss: 0.9451869817880484\n",
            "Epoch: 32 - train loss: 0.8904922560518012 - valid loss: 0.9415536293616662\n",
            "Epoch: 33 - train loss: 0.8885052309834899 - valid loss: 0.9431078250591571\n",
            "Epoch: 34 - train loss: 0.8883548229198738 - valid loss: 0.9402080682607797\n",
            "Epoch: 35 - train loss: 0.8885430397071274 - valid loss: 0.9415449729332557\n",
            "Epoch: 36 - train loss: 0.8894970522725524 - valid loss: 0.9393392709585336\n",
            "Epoch: 37 - train loss: 0.8888166455799723 - valid loss: 0.9412919558011569\n",
            "Epoch: 38 - train loss: 0.8896851187269089 - valid loss: 0.9394120436448318\n",
            "Epoch: 39 - train loss: 0.8894459390875153 - valid loss: 0.9415727762075571\n",
            "Epoch: 40 - train loss: 0.8880361171778787 - valid loss: 0.9425979760976938\n",
            "Epoch: 41 - train loss: 0.8881980257081281 - valid loss: 0.9403484051044171\n",
            "Epoch: 42 - train loss: 0.8875888016423569 - valid loss: 0.9424015191885141\n",
            "Epoch: 43 - train loss: 0.8881995290370998 - valid loss: 0.9422506185678335\n",
            "Epoch: 44 - train loss: 0.8918496117803264 - valid loss: 0.9413346510667068\n",
            "Epoch: 45 - train loss: 0.8893777631186499 - valid loss: 0.9422971285306491\n",
            "Epoch: 46 - train loss: 0.8890546225561884 - valid loss: 0.9439099385188177\n",
            "Epoch: 47 - train loss: 0.8915327100330973 - valid loss: 0.9448789449838492\n",
            "Epoch: 48 - train loss: 0.8895383938192734 - valid loss: 0.9461325865525466\n",
            "Epoch: 49 - train loss: 0.8877946825450277 - valid loss: 0.9447799829336313\n",
            "Epoch: 50 - train loss: 0.8881502950132774 - valid loss: 0.9424340174748347\n",
            "Epoch: 51 - train loss: 0.8890580050463747 - valid loss: 0.9483016821054312\n",
            "Epoch: 52 - train loss: 0.8887196808612993 - valid loss: 0.944184816800631\n",
            "Epoch: 53 - train loss: 0.8874687608239686 - valid loss: 0.9409587566669171\n",
            "Epoch: 54 - train loss: 0.8913308129522014 - valid loss: 0.9410746647761419\n",
            "Epoch: 55 - train loss: 0.8900196094231065 - valid loss: 0.9406261444091797\n",
            "Epoch: 56 - train loss: 0.888942925213593 - valid loss: 0.9435629477867713\n",
            "Epoch: 57 - train loss: 0.8894197059969596 - valid loss: 0.943638067979079\n",
            "Epoch: 58 - train loss: 0.8888907596982759 - valid loss: 0.9448306743915265\n",
            "Epoch: 59 - train loss: 0.8904625653046105 - valid loss: 0.9435659555288461\n",
            "Epoch: 60 - train loss: 0.8886366219356142 - valid loss: 0.944306520315317\n",
            "Epoch: 61 - train loss: 0.889269222766895 - valid loss: 0.9412993651169997\n",
            "Epoch: 62 - train loss: 0.8881852474118689 - valid loss: 0.9442578095656174\n",
            "Epoch: 63 - train loss: 0.8881255652516934 - valid loss: 0.9442859796377329\n",
            "Epoch: 64 - train loss: 0.8883833861703356 - valid loss: 0.9513456638042743\n",
            "Epoch: 65 - train loss: 0.8886391024284175 - valid loss: 0.9414467444786658\n",
            "Epoch: 66 - train loss: 0.889310038148476 - valid loss: 0.9458233026357797\n",
            "Epoch: 67 - train loss: 0.8900190080915179 - valid loss: 0.944087762099046\n",
            "Epoch: 68 - train loss: 0.8887997331290409 - valid loss: 0.9473478610698993\n",
            "Epoch: 69 - train loss: 0.8901332610933651 - valid loss: 0.9445104598999023\n",
            "Epoch: 70 - train loss: 0.8885364250596521 - valid loss: 0.9415525289682242\n",
            "Epoch: 71 - train loss: 0.8895389951508621 - valid loss: 0.9441041212815505\n",
            "Epoch: 72 - train loss: 0.8907836012065117 - valid loss: 0.9393323751596304\n",
            "Epoch: 73 - train loss: 0.8900529833262777 - valid loss: 0.9437294739943284\n",
            "Epoch: 74 - train loss: 0.8890542467239455 - valid loss: 0.9457955727210412\n",
            "Epoch: 75 - train loss: 0.8887014154142934 - valid loss: 0.9475576694195087\n",
            "Epoch: 76 - train loss: 0.8902496187557728 - valid loss: 0.9431469257061298\n",
            "Epoch: 77 - train loss: 0.890393863170605 - valid loss: 0.9456919890183669\n",
            "Epoch: 78 - train loss: 0.8884281853736915 - valid loss: 0.9435809942392203\n",
            "Epoch: 79 - train loss: 0.8877734856065271 - valid loss: 0.9448572305532602\n",
            "Epoch: 80 - train loss: 0.8899815752001231 - valid loss: 0.9443454742431641\n",
            "Epoch: 81 - train loss: 0.8886572927089748 - valid loss: 0.9454534237201397\n",
            "Epoch: 82 - train loss: 0.8886445144127155 - valid loss: 0.9453050906841571\n",
            "Epoch: 83 - train loss: 0.8893261237684729 - valid loss: 0.9478550690871018\n",
            "Epoch: 84 - train loss: 0.8891977394742919 - valid loss: 0.9457080547626202\n",
            "Epoch: 85 - train loss: 0.8879278774919181 - valid loss: 0.9443933780376728\n",
            "Epoch: 86 - train loss: 0.8885257514239532 - valid loss: 0.9450740080613357\n",
            "Epoch: 87 - train loss: 0.8888378425184729 - valid loss: 0.943707172687237\n",
            "Epoch: 88 - train loss: 0.8870905232546952 - valid loss: 0.9422915532038763\n",
            "Epoch: 89 - train loss: 0.8879278774919181 - valid loss: 0.9446873298058143\n",
            "Epoch: 90 - train loss: 0.8872399541544796 - valid loss: 0.9430708518395057\n",
            "Epoch: 91 - train loss: 0.8896392671932728 - valid loss: 0.9455021344698392\n",
            "Epoch: 92 - train loss: 0.8934481014759083 - valid loss: 0.9474949469933143\n",
            "Epoch: 93 - train loss: 0.8880652817599292 - valid loss: 0.9467992048997146\n",
            "Epoch: 94 - train loss: 0.8886683421769166 - valid loss: 0.9439237301166241\n",
            "Epoch: 95 - train loss: 0.8892063084494304 - valid loss: 0.9446945190429688\n",
            "Epoch: 96 - train loss: 0.8882877744477371 - valid loss: 0.9425184543316181\n",
            "Epoch: 97 - train loss: 0.8891541429341133 - valid loss: 0.9448383037860577\n",
            "Epoch: 98 - train loss: 0.8893204111183806 - valid loss: 0.9439142667330228\n",
            "Epoch: 99 - train loss: 0.8887031442426109 - valid loss: 0.9418854346642127\n",
            "Epoch: 100 - train loss: 0.8891544435999076 - valid loss: 0.946789814875676\n"
          ]
        }
      ]
    },
    {
      "cell_type": "markdown",
      "source": [
        "## **Validate Models**"
      ],
      "metadata": {
        "id": "dabgOLizKn2c"
      }
    },
    {
      "cell_type": "code",
      "source": [
        "from sklearn.metrics import mean_squared_error\n",
        "\n",
        "# Elastic Net\n",
        "y_valid_enet_preds = enet.predict(X_valid_s)\n",
        "\n",
        "enet_valid_rmse = mean_squared_error(y_valid_s, y_valid_enet_preds)\n",
        "print(f\"Elastic Net validation RMSE: {enet_valid_rmse}\")\n",
        "\n",
        "# Support Vector Regressor\n",
        "y_valid_svr_preds = svr.predict(X_valid_s)\n",
        "\n",
        "svr_valid_rmse = mean_squared_error(y_valid_s, y_valid_svr_preds)\n",
        "print(f\"SVR validation RMSE: {svr_valid_rmse}\")\n",
        "\n",
        "# Random Forest\n",
        "y_valid_rf_preds = xgb_rf.predict(X_valid_s)\n",
        "\n",
        "rf_valid_rmse = mean_squared_error(y_valid_s, y_valid_rf_preds)\n",
        "print(f\"Random Forest validation RMSE: {rf_valid_rmse}\")\n",
        "\n",
        "# XG Boost\n",
        "y_valid_xgb_preds = xgbr.predict(X_valid_s)\n",
        "\n",
        "xgb_valid_rmse = mean_squared_error(y_valid_s, y_valid_xgb_preds)\n",
        "print(f\"XG Boost validation RMSE: {xgb_valid_rmse}\")"
      ],
      "metadata": {
        "colab": {
          "base_uri": "https://localhost:8080/"
        },
        "id": "HCnAJhzcKax-",
        "outputId": "b69ae6ff-ee84-4033-fe74-769b3d466c89"
      },
      "execution_count": 294,
      "outputs": [
        {
          "output_type": "stream",
          "name": "stdout",
          "text": [
            "Elastic Net validation RMSE: 0.805707593960841\n",
            "SVR validation RMSE: 0.5342344627755359\n",
            "Random Forest validation RMSE: 0.4655884538571152\n",
            "XG Boost validation RMSE: 0.43725145022490336\n"
          ]
        }
      ]
    },
    {
      "cell_type": "markdown",
      "source": [
        "## **Focus on Random Forest and XG Boost**"
      ],
      "metadata": {
        "id": "Vut1WTZ8SUhz"
      }
    },
    {
      "cell_type": "code",
      "source": [
        "xgb_rf = xgb.XGBRFRegressor(\n",
        "    n_estimators=100,\n",
        "    # max_depth=5,\n",
        "    # max_leaves=0,\n",
        "    # learning_rate=0.8,\n",
        "    # reg_alpha=0.001,\n",
        "    reg_lambda=0.001,\n",
        "    # gamma=0,\n",
        "    random_state=0\n",
        "    )\n",
        "xgbr = xgb.XGBRegressor(\n",
        "    n_estimators=100,\n",
        "    # max_depth=5,\n",
        "    # random_state=0,\n",
        "    # max_leaves=0,\n",
        "    # learning_rate=0.8,\n",
        "    # reg_alpha=0.001,\n",
        "    reg_lambda=0.001,\n",
        "    # gamma=0,\n",
        "    random_state=0\n",
        "    )"
      ],
      "metadata": {
        "id": "b8rp7Du5KwM-"
      },
      "execution_count": 311,
      "outputs": []
    },
    {
      "cell_type": "markdown",
      "source": [
        "Baseline performance:\n",
        "  - Random Forest validation RMSE: 0.4645639643722361\n",
        "  - XG Boost validation RMSE: 0.42891753740490174"
      ],
      "metadata": {
        "id": "0Un34cpNTjCh"
      }
    },
    {
      "cell_type": "code",
      "source": [
        "xgb_rf.fit(X_train_s, y_train_s)\n",
        "print(\"Random Forest fit complete\")\n",
        "\n",
        "xgbr.fit(X_train_s, y_train_s)\n",
        "print(\"XGBoost fit complete\")"
      ],
      "metadata": {
        "colab": {
          "base_uri": "https://localhost:8080/"
        },
        "id": "3YtFxtY2TIfW",
        "outputId": "2f8dad28-d0fc-49ca-d2c7-d586b1f77f99"
      },
      "execution_count": 312,
      "outputs": [
        {
          "output_type": "stream",
          "name": "stdout",
          "text": [
            "Random Forest fit complete\n",
            "XGBoost fit complete\n"
          ]
        }
      ]
    },
    {
      "cell_type": "code",
      "source": [
        "# Random Forest\n",
        "y_valid_rf_preds = xgb_rf.predict(X_valid_s)\n",
        "\n",
        "rf_valid_rmse = mean_squared_error(y_valid_s, y_valid_rf_preds)\n",
        "print(f\"Random Forest validation RMSE: {rf_valid_rmse}\")\n",
        "\n",
        "# XG Boost\n",
        "y_valid_xgb_preds = xgbr.predict(X_valid_s)\n",
        "\n",
        "xgb_valid_rmse = mean_squared_error(y_valid_s, y_valid_xgb_preds)\n",
        "print(f\"XG Boost validation RMSE: {xgb_valid_rmse}\")"
      ],
      "metadata": {
        "colab": {
          "base_uri": "https://localhost:8080/"
        },
        "id": "RzDnuw_0TK4s",
        "outputId": "b4dd5aa3-2c95-456b-d007-cce8ed39a2eb"
      },
      "execution_count": 313,
      "outputs": [
        {
          "output_type": "stream",
          "name": "stdout",
          "text": [
            "Random Forest validation RMSE: 0.4645127399955221\n",
            "XG Boost validation RMSE: 0.4444739458570942\n"
          ]
        }
      ]
    },
    {
      "cell_type": "code",
      "source": [],
      "metadata": {
        "id": "cxehtWXTTNO6"
      },
      "execution_count": 313,
      "outputs": []
    }
  ]
}