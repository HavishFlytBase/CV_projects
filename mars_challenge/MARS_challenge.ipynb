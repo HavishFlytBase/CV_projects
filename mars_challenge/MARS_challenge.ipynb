{
  "nbformat": 4,
  "nbformat_minor": 0,
  "metadata": {
    "colab": {
      "provenance": [],
      "authorship_tag": "ABX9TyNHGYrqkzguInsfRsvRxYU5",
      "include_colab_link": true
    },
    "kernelspec": {
      "name": "python3",
      "display_name": "Python 3"
    },
    "language_info": {
      "name": "python"
    }
  },
  "cells": [
    {
      "cell_type": "markdown",
      "metadata": {
        "id": "view-in-github",
        "colab_type": "text"
      },
      "source": [
        "<a href=\"https://colab.research.google.com/github/itberrios/CV_projects/blob/main/mars_challenge/MARS_challenge.ipynb\" target=\"_parent\"><img src=\"https://colab.research.google.com/assets/colab-badge.svg\" alt=\"Open In Colab\"/></a>"
      ]
    },
    {
      "cell_type": "markdown",
      "source": [
        "# **Welcome to the MARS Challenge!**\n",
        "\n",
        "### The [MARS challenge](https://blog.marsauto.com/introducing-the-mars-challenge-fc84c5afafbe) is a Computer Vision Task that invlovles regressing true vehicle speed using only camera frames. It is prepared by an automous trucking start-up called MARS as a way to identify potentially qualified candidates. The idea is to avoid a traditional whiteboard interview and instead provide a more challenging problem that requires an innate ability to solve complex problems.\n",
        "\n",
        "<br>\n",
        "\n",
        "### **Are you up for the challenge?**"
      ],
      "metadata": {
        "id": "WTvU2InxWaIY"
      }
    },
    {
      "cell_type": "code",
      "execution_count": null,
      "metadata": {
        "id": "5oDDtmu7WZLU"
      },
      "outputs": [],
      "source": []
    }
  ]
}